{
 "cells": [
  {
   "cell_type": "markdown",
   "metadata": {},
   "source": [
    "# Stock Analysis"
   ]
  },
  {
   "cell_type": "code",
   "execution_count": 1,
   "metadata": {},
   "outputs": [],
   "source": [
    "stock_ticker = 'ACC'          #Change ticker name here and re-run the notebook\n",
    "ema          = (30,60,200)          #Set periods for Exponentail Moving Average\n",
    "focus_period = 1000                 #Filter period for focus. If set only last 150 trading days data will be shown for analysis."
   ]
  },
  {
   "cell_type": "markdown",
   "metadata": {},
   "source": [
    "**Installing Package**"
   ]
  },
  {
   "cell_type": "code",
   "execution_count": 2,
   "metadata": {},
   "outputs": [
    {
     "name": "stdout",
     "output_type": "stream",
     "text": [
      "Requirement already up-to-date: portfoliotools in /Library/Frameworks/Python.framework/Versions/3.7/lib/python3.7/site-packages (1.0.12)\n",
      "Requirement already satisfied, skipping upgrade: beautifulsoup4 in /Library/Frameworks/Python.framework/Versions/3.7/lib/python3.7/site-packages (from portfoliotools) (4.8.1)\n",
      "Requirement already satisfied, skipping upgrade: pandas in /Library/Frameworks/Python.framework/Versions/3.7/lib/python3.7/site-packages (from portfoliotools) (0.25.1)\n",
      "Requirement already satisfied, skipping upgrade: numpy in /Library/Frameworks/Python.framework/Versions/3.7/lib/python3.7/site-packages (from portfoliotools) (1.17.1)\n",
      "Requirement already satisfied, skipping upgrade: mftool in /Library/Frameworks/Python.framework/Versions/3.7/lib/python3.7/site-packages (from portfoliotools) (1.3)\n",
      "Requirement already satisfied, skipping upgrade: requests in /Library/Frameworks/Python.framework/Versions/3.7/lib/python3.7/site-packages (from portfoliotools) (2.22.0)\n",
      "Requirement already satisfied, skipping upgrade: pandas-datareader in /Library/Frameworks/Python.framework/Versions/3.7/lib/python3.7/site-packages (from portfoliotools) (0.7.4)\n",
      "Requirement already satisfied, skipping upgrade: plotly in /Library/Frameworks/Python.framework/Versions/3.7/lib/python3.7/site-packages (from portfoliotools) (4.1.1)\n",
      "Requirement already satisfied, skipping upgrade: stocktrends in /Library/Frameworks/Python.framework/Versions/3.7/lib/python3.7/site-packages (from portfoliotools) (0.1.4)\n",
      "Requirement already satisfied, skipping upgrade: scipy in /Users/rahuljain/Library/Python/3.7/lib/python/site-packages (from portfoliotools) (1.4.1)\n",
      "Requirement already satisfied, skipping upgrade: scikit-learn in /Library/Frameworks/Python.framework/Versions/3.7/lib/python3.7/site-packages (from portfoliotools) (0.21.3)\n",
      "Requirement already satisfied, skipping upgrade: seaborn in /Library/Frameworks/Python.framework/Versions/3.7/lib/python3.7/site-packages (from portfoliotools) (0.9.0)\n",
      "Requirement already satisfied, skipping upgrade: statsmodels in /Library/Frameworks/Python.framework/Versions/3.7/lib/python3.7/site-packages (from portfoliotools) (0.10.1)\n",
      "Requirement already satisfied, skipping upgrade: nsepy in /Library/Frameworks/Python.framework/Versions/3.7/lib/python3.7/site-packages (from portfoliotools) (0.8)\n",
      "Requirement already satisfied, skipping upgrade: nsetools in /Library/Frameworks/Python.framework/Versions/3.7/lib/python3.7/site-packages (from portfoliotools) (1.0.11)\n",
      "Requirement already satisfied, skipping upgrade: soupsieve>=1.2 in /Library/Frameworks/Python.framework/Versions/3.7/lib/python3.7/site-packages (from beautifulsoup4->portfoliotools) (1.9.4)\n",
      "Requirement already satisfied, skipping upgrade: pytz>=2017.2 in /Library/Frameworks/Python.framework/Versions/3.7/lib/python3.7/site-packages (from pandas->portfoliotools) (2019.2)\n",
      "Requirement already satisfied, skipping upgrade: python-dateutil>=2.6.1 in /Library/Frameworks/Python.framework/Versions/3.7/lib/python3.7/site-packages (from pandas->portfoliotools) (2.8.0)\n",
      "Requirement already satisfied, skipping upgrade: bs4 in /Library/Frameworks/Python.framework/Versions/3.7/lib/python3.7/site-packages (from mftool->portfoliotools) (0.0.1)\n",
      "Requirement already satisfied, skipping upgrade: idna<2.9,>=2.5 in /Library/Frameworks/Python.framework/Versions/3.7/lib/python3.7/site-packages (from requests->portfoliotools) (2.8)\n",
      "Requirement already satisfied, skipping upgrade: certifi>=2017.4.17 in /Library/Frameworks/Python.framework/Versions/3.7/lib/python3.7/site-packages (from requests->portfoliotools) (2019.9.11)\n",
      "Requirement already satisfied, skipping upgrade: urllib3!=1.25.0,!=1.25.1,<1.26,>=1.21.1 in /Users/rahuljain/Library/Python/3.7/lib/python/site-packages (from requests->portfoliotools) (1.25.8)\n",
      "Requirement already satisfied, skipping upgrade: chardet<3.1.0,>=3.0.2 in /Library/Frameworks/Python.framework/Versions/3.7/lib/python3.7/site-packages (from requests->portfoliotools) (3.0.4)\n",
      "Requirement already satisfied, skipping upgrade: wrapt in /Users/rahuljain/Library/Python/3.7/lib/python/site-packages (from pandas-datareader->portfoliotools) (1.11.2)\n",
      "Requirement already satisfied, skipping upgrade: lxml in /Users/rahuljain/Library/Python/3.7/lib/python/site-packages (from pandas-datareader->portfoliotools) (4.6.3)\n",
      "Requirement already satisfied, skipping upgrade: six in /Library/Frameworks/Python.framework/Versions/3.7/lib/python3.7/site-packages (from plotly->portfoliotools) (1.15.0)\n",
      "Requirement already satisfied, skipping upgrade: retrying>=1.3.3 in /Library/Frameworks/Python.framework/Versions/3.7/lib/python3.7/site-packages (from plotly->portfoliotools) (1.3.3)\n",
      "Requirement already satisfied, skipping upgrade: joblib>=0.11 in /Library/Frameworks/Python.framework/Versions/3.7/lib/python3.7/site-packages (from scikit-learn->portfoliotools) (0.13.2)\n",
      "Requirement already satisfied, skipping upgrade: matplotlib>=1.4.3 in /Library/Frameworks/Python.framework/Versions/3.7/lib/python3.7/site-packages (from seaborn->portfoliotools) (3.1.1)\n",
      "Requirement already satisfied, skipping upgrade: patsy>=0.4.0 in /Library/Frameworks/Python.framework/Versions/3.7/lib/python3.7/site-packages (from statsmodels->portfoliotools) (0.5.1)\n",
      "Requirement already satisfied, skipping upgrade: click in /Library/Frameworks/Python.framework/Versions/3.7/lib/python3.7/site-packages (from nsepy->portfoliotools) (7.1.2)\n",
      "Requirement already satisfied, skipping upgrade: dateutils in /Library/Frameworks/Python.framework/Versions/3.7/lib/python3.7/site-packages (from nsetools->portfoliotools) (0.6.8)\n",
      "Requirement already satisfied, skipping upgrade: kiwisolver>=1.0.1 in /Library/Frameworks/Python.framework/Versions/3.7/lib/python3.7/site-packages (from matplotlib>=1.4.3->seaborn->portfoliotools) (1.1.0)\n",
      "Requirement already satisfied, skipping upgrade: pyparsing!=2.0.4,!=2.1.2,!=2.1.6,>=2.0.1 in /Library/Frameworks/Python.framework/Versions/3.7/lib/python3.7/site-packages (from matplotlib>=1.4.3->seaborn->portfoliotools) (2.4.2)\n",
      "Requirement already satisfied, skipping upgrade: cycler>=0.10 in /Library/Frameworks/Python.framework/Versions/3.7/lib/python3.7/site-packages (from matplotlib>=1.4.3->seaborn->portfoliotools) (0.10.0)\n",
      "Requirement already satisfied, skipping upgrade: argparse in /Library/Frameworks/Python.framework/Versions/3.7/lib/python3.7/site-packages (from dateutils->nsetools->portfoliotools) (1.4.0)\n",
      "Requirement already satisfied, skipping upgrade: setuptools in /Library/Frameworks/Python.framework/Versions/3.7/lib/python3.7/site-packages (from kiwisolver>=1.0.1->matplotlib>=1.4.3->seaborn->portfoliotools) (45.2.0)\n",
      "\u001b[33mWARNING: You are using pip version 19.2.3, however version 21.1.2 is available.\n",
      "You should consider upgrading via the 'pip install --upgrade pip' command.\u001b[0m\n",
      "Note: you may need to restart the kernel to use updated packages.\n"
     ]
    }
   ],
   "source": [
    "# Install package\n",
    "%pip install --upgrade portfoliotools"
   ]
  },
  {
   "cell_type": "code",
   "execution_count": 3,
   "metadata": {},
   "outputs": [],
   "source": [
    "from portfoliotools.screener.stock_detail import StockDetail\n",
    "from portfoliotools.screener.stock_fundamentals import StockFundamentals\n",
    "#from portfoliotools.screener.screener_pattern import CandleStickPatters\n",
    "from portfoliotools.screener.utility.util import NumToStr, flatten_dicts_of_dicts, backTestStrategy, slope, get_arima_predictions\n",
    "import pandas as pd\n",
    "import numpy as np\n",
    "import seaborn as sns\n",
    "import plotly.graph_objects as go\n",
    "import matplotlib.pyplot as plt\n",
    "from IPython.display import display_html\n",
    "from pandas.plotting import register_matplotlib_converters\n",
    "from plotly.subplots import make_subplots\n",
    "import nsetools\n",
    "\n",
    "import warnings\n",
    "warnings.filterwarnings(\"ignore\")\n",
    "register_matplotlib_converters()\n",
    "%matplotlib inline\n",
    "sns.set()\n",
    "pd.options.display.max_columns = None\n",
    "pd.options.display.max_rows = None\n",
    "\n",
    "nse = nsetools.Nse()\n",
    "if not nse.is_valid_code(stock_ticker) and \"NIFTY\" not in stock_ticker:\n",
    "    raise(Exception(\"Not a Valid Ticker\"))\n",
    "def display_side_by_side(*args):\n",
    "    html_str=''\n",
    "    for df in args:\n",
    "        html_str+=df.to_html()\n",
    "    display_html(html_str.replace('table','table style=\"display:inline\"'),raw=True)"
   ]
  },
  {
   "cell_type": "code",
   "execution_count": null,
   "metadata": {},
   "outputs": [],
   "source": [
    "stockObj = StockDetail(stock_ticker, period = focus_period)\n",
    "stock_funda = StockFundamentals(stock_ticker)\n",
    "details = stockObj.details()\n",
    "details_funda = stock_funda.get_details_info()"
   ]
  },
  {
   "cell_type": "markdown",
   "metadata": {},
   "source": [
    "### <font color = \"red\">Overview</font>"
   ]
  },
  {
   "cell_type": "code",
   "execution_count": null,
   "metadata": {},
   "outputs": [],
   "source": [
    "info = details['Overview']['Info']\n",
    "info['Beta'] = details_funda.get('Beta (5Y monthly)')\n",
    "df1 = pd.DataFrame(data = np.array(list(info.values())), index = np.array(list(info.keys())), columns = ['Overview'])\n",
    "info = details['Overview']['52W Statistics']\n",
    "df2 = pd.DataFrame(data = np.array(list(info.values())), index = np.array(list(info.keys())), columns = ['52W Stats'])\n",
    "info = details['Overview']['Returns']\n",
    "df3 = pd.DataFrame(data = np.array(list(info.values())), index = np.array(list(info.keys())), columns = ['Return Stats'])\n",
    "info = details['Fundamental Analytics']\n",
    "info['Trailing P/E'] = details_funda.get('Trailing P/E')\n",
    "info['Forward P/E']  = details_funda.get('Forward P/E')\n",
    "info['P/B']          = details_funda.get('Price/book')\n",
    "info['PEG Ratio']    = details_funda.get('PEG Ratio (5 yr expected)')\n",
    "info['Debt/Equity']  = details_funda.get('Total debt/equity')\n",
    "info['ROA']          = details_funda.get('Return on assets')\n",
    "info['ROE']          = details_funda.get('Return on equity')\n",
    "df4 = pd.DataFrame(data = np.array(list(info.values())), index = np.array(list(info.keys())), columns = ['Fundamentals'])\n",
    "info = flatten_dicts_of_dicts(details['Technical Analytics'])\n",
    "df5 = pd.DataFrame( data = info.values(), index = np.array(list(info.keys())), columns = ['Technical Signals'])\n",
    "cols = [col for col in df5.index.tolist() if 'Signal' in col or 'Portfolio' in col]\n",
    "df5 = df5.loc[cols,:]\n",
    "display_side_by_side(df1,df2,df3,df4,df5)"
   ]
  },
  {
   "cell_type": "markdown",
   "metadata": {},
   "source": [
    "## <font color = 'red'>Fundamental Analysis</font>"
   ]
  },
  {
   "cell_type": "markdown",
   "metadata": {},
   "source": [
    "### - Details \n",
    "    Balance sheet\n",
    "    Cash Flow\n",
    "    Key Statistics\n",
    "    Income Statement"
   ]
  },
  {
   "cell_type": "code",
   "execution_count": null,
   "metadata": {},
   "outputs": [],
   "source": [
    "info = stock_funda.get_balance_sheet_info()\n",
    "df1 = pd.DataFrame( data = NumToStr(info.values()), index = np.array(list(info.keys())), columns = ['Balance Sheet'])\n",
    "info = stock_funda.get_financial_info()\n",
    "df2 = pd.DataFrame( data = NumToStr(info.values()), index = np.array(list(info.keys())), columns = ['Financial Info'])\n",
    "info = stock_funda.get_cash_flow_info()\n",
    "df3 = pd.DataFrame( data = NumToStr(info.values()), index = np.array(list(info.keys())), columns = ['Cash Flow Info'])\n",
    "info = stock_funda.get_key_statistics()\n",
    "df4 = pd.DataFrame( data = NumToStr(info.values()), index = np.array(list(info.keys())), columns = ['Key Statistics'])\n",
    "info = stock_funda.get_summary_statistics()\n",
    "df5 = pd.DataFrame( data = NumToStr(info.values()), index = np.array(list(info.keys())), columns = ['Summary Statistics'])\n",
    "display_side_by_side(df1, df3, df4, df2, df5)"
   ]
  },
  {
   "cell_type": "markdown",
   "metadata": {},
   "source": [
    "## <font color = \"red\">Technical Analysis</font>"
   ]
  },
  {
   "cell_type": "code",
   "execution_count": null,
   "metadata": {},
   "outputs": [],
   "source": [
    "data = stockObj.generate_moving_averages(exponential=ema)\n",
    "data = data.tail(focus_period) # last 150 periods"
   ]
  },
  {
   "cell_type": "markdown",
   "metadata": {},
   "source": [
    "### - Close Price vs Volumne"
   ]
  },
  {
   "cell_type": "code",
   "execution_count": null,
   "metadata": {
    "scrolled": false
   },
   "outputs": [],
   "source": [
    "# Adjusted Close & Volumne - Historical\n",
    "fig = plt.figure(figsize = (17,6))\n",
    "fig.suptitle(\"Historical prices\")\n",
    "\n",
    "ax1 = fig.add_axes([0,.3,1,.7])\n",
    "ax1.plot(data.index, data['Adj Close'], label = 'Adj Close')\n",
    "ax1.legend()\n",
    "for period in ema:\n",
    "    col = '{0}D Exponential Moving Average'.format(period)\n",
    "    label = '{0}D EMA'.format(period)\n",
    "    ax1.plot( data.index, data[col], label = label)\n",
    "    ax1.legend()\n",
    "\n",
    "ax2 = fig.add_axes([0,0,1,.25])\n",
    "ax2.set_title(\"Volume\")\n",
    "vol = data['Volume']#np.log10(data['Volume'])\n",
    "#vol_cmap = data['Volume'].apply(lambda x, vol: 'rgb(250,0,0)' if x<vol else 'rgb(0,250,0)',vol = vol.mean())\n",
    "ax2.bar(data.index, vol)\n",
    "#ax2.set_ylim([vol.min()-.5, vol.max() + .5])\n",
    "#ax2.plot(data.index, [vol.mean()]*len(vol), color = vol_cmap.tolist())\n",
    "plt.show()"
   ]
  },
  {
   "cell_type": "markdown",
   "metadata": {},
   "source": [
    "### Bollinger Bands"
   ]
  },
  {
   "cell_type": "code",
   "execution_count": null,
   "metadata": {},
   "outputs": [],
   "source": [
    "data = stockObj.get_bollinger_details().tail(focus_period)"
   ]
  },
  {
   "cell_type": "code",
   "execution_count": null,
   "metadata": {},
   "outputs": [],
   "source": [
    "fig = plt.figure(figsize = (17,6))\n",
    "fig.suptitle(\"Bollinger Bands\")\n",
    "\n",
    "ax1 = fig.add_axes([0,.3,1,.7])\n",
    "ax1.plot(data.index, data['Adj Close'], label = 'Adj Close')\n",
    "ax1.legend()\n",
    "for part in ['Upper', 'Lower']:\n",
    "    col = 'Bollinger Band {0}'.format(part)\n",
    "    label = 'BB {0}'.format(part)\n",
    "    ax1.plot( data.index, data[col], label = label)\n",
    "    ax1.legend()\n",
    "\n",
    "ax2 = fig.add_axes([0,0,1,.25])\n",
    "ax2.set_title(\"Volume\")\n",
    "vol = data['Volume']\n",
    "ax2.bar(data.index, vol)\n",
    "plt.show()"
   ]
  },
  {
   "cell_type": "markdown",
   "metadata": {},
   "source": [
    "### - Close Price Candle Stick"
   ]
  },
  {
   "cell_type": "code",
   "execution_count": null,
   "metadata": {},
   "outputs": [],
   "source": [
    "## Candle Stick - Historical\n",
    "fig = go.Figure(data=[go.Candlestick(x=data.index,\n",
    "                       open=data['Open'], high=data['High'],\n",
    "                       low=data['Low'], close=data['Close'])])\n",
    "#fig.layout.xaxis.type = 'category'\n",
    "fig.show()"
   ]
  },
  {
   "cell_type": "markdown",
   "metadata": {},
   "source": [
    "### - Williams R\n",
    "**Description:** %D is 5 day smooth average of %R. Buy signal is triggered when %D is less than -75 and volume is more than 1.25 times avg 5 day volume. Sell signal is triggered when %D is more than -20 and volume is more than 1.25 times avg 5 day volume.\n",
    "\n",
    "**Backtest Strategy**: Passive - Portfolio starts with 100% cash and there is no repump of cash into portfolio i.e. if there is a buy signal when no cash is in the portfolio, Buy order is not executed.\n",
    "Active - Portfolio starts with 100% cash and at each Buy signal, initial cash is re-pumped into portfolio if there is not enough cash left for investment."
   ]
  },
  {
   "cell_type": "code",
   "execution_count": null,
   "metadata": {},
   "outputs": [],
   "source": [
    "#data = stockObj.get_williams_r_details()[2] # To get williams R data frame\n",
    "fig = stockObj.plot_williams_r_details(period = focus_period)\n",
    "fig.show()"
   ]
  },
  {
   "cell_type": "markdown",
   "metadata": {},
   "source": [
    "### - MACD\n",
    "**Descrption**: MACD is momentum indicator. MACD Line is EMA(12D) - EMA(26D). MACD Indicator is exponential moving average of MACD.\n",
    "When MACD Line crosses MACD Indicator from top, it's a BUY zone. When MACD Line crosses MACD Indicator from below, it's a SELL zone. BUY signal is generated when BUY Zone creates a maxima based on 9 day period. SELL signal is generated when SELL Zone creates a maxima.\n",
    "\n",
    "**Backtest Strategy**: Passive - Portfolio starts with 100% cash and there is no repump of cash into portfolio i.e. if there is a buy signal when no cash is in the portfolio, Buy order is not executed.\n",
    "Active - Portfolio starts with 100% cash and at each Buy signal, initial cash is re-pumped into portfolio if there is not enough cash left for investment."
   ]
  },
  {
   "cell_type": "code",
   "execution_count": null,
   "metadata": {},
   "outputs": [],
   "source": [
    "fig = stockObj.plot_macd_details(period = focus_period)\n",
    "fig.show()"
   ]
  },
  {
   "cell_type": "markdown",
   "metadata": {},
   "source": [
    "### - RSI\n",
    "**Descrption**: Relative Stregth Index(RSI) is momentum indicator. Relative Strength is calculated as ration of Average Gains to Average Loss. RS is then indexed to calculate RSI.\n",
    "\n",
    "**Formula:** RS = Avg Gain/Avg Loss; \n",
    "RSI = 100 - 100/(1+RS)\n",
    "\n",
    "Buy signal is given when RSI < 30.\n",
    "Sell signal is given when RSI > 70.\n",
    "\n",
    "**Backtest Strategy**: Passive - Portfolio starts with 100% cash and there is no repump of cash into portfolio i.e. if there is a buy signal when no cash is in the portfolio, Buy order is not executed.\n",
    "Active - Portfolio starts with 100% cash and at each Buy signal, initial cash is re-pumped into portfolio if there is not enough cash left for investment."
   ]
  },
  {
   "cell_type": "code",
   "execution_count": null,
   "metadata": {},
   "outputs": [],
   "source": [
    "fig = stockObj.plot_rsi_details(period = focus_period)\n",
    "fig.show()"
   ]
  },
  {
   "cell_type": "markdown",
   "metadata": {},
   "source": [
    "### - OBV\n",
    "**Description:** OBV is a momentum indicator. BUY signal is triggered when OBV Index is less than 0 and rate of OBV Index change is more than 60. SELL signal is triggered when OBV Index is more than 0 and rate of OBV Index change is more than 60.\n",
    "\n",
    "**Backtest Strategy**: Passive - Portfolio starts with 100% cash and there is no repump of cash into portfolio i.e. if there is a buy signal when no cash is in the portfolio, Buy order is not executed.\n",
    "Active - Portfolio starts with 100% cash and at each Buy signal, initial cash is re-pumped into portfolio if there is not enough cash left for investment."
   ]
  },
  {
   "cell_type": "code",
   "execution_count": null,
   "metadata": {},
   "outputs": [],
   "source": [
    "fig = stockObj.plot_obv_details(period = focus_period)\n",
    "fig.show()"
   ]
  },
  {
   "cell_type": "markdown",
   "metadata": {},
   "source": [
    "### ADX/ATR\n",
    "**Description:**\n",
    "\n",
    "**ADX Value  \t        Trend Strength**\n",
    "\n",
    "0-25\t                Absent or Weak Trend\n",
    "\n",
    "25-50\t                Strong Trend\n",
    "\n",
    "50-75\t                Very Strong Trend\n",
    "\n",
    "75-100\t                Extremely Strong Trend\n"
   ]
  },
  {
   "cell_type": "code",
   "execution_count": null,
   "metadata": {},
   "outputs": [],
   "source": [
    "data = stockObj.get_adx_details()\n",
    "data = data.join(stockObj.get_atr_details()['ATR'])\n",
    "data.dropna(inplace = True)\n",
    "data = data.tail(focus_period)"
   ]
  },
  {
   "cell_type": "code",
   "execution_count": null,
   "metadata": {},
   "outputs": [],
   "source": [
    "fig = make_subplots(rows = 3, cols = 1, shared_xaxes= True, vertical_spacing = 0.08, \n",
    "    column_widths = [15], row_heights = [2,2,2],\n",
    "    specs=[[{\"secondary_y\": True}], [{\"secondary_y\": False}], [{\"secondary_y\": False}]])\n",
    "\n",
    "hovertext      = [\"<br>Close : \" + \"{:,}\".format(np.round(txt['Close'],2)) + \n",
    "                    \"<br>High: \" + \"{:,}\".format(np.round(txt['High'],2)) + \n",
    "                    \"<br>Low: \" + \"{:,}\".format(np.round(txt['Low'],2)) + \n",
    "                    \"<br>Volume: \" + \"{:,}\".format(txt['Volume']) + \n",
    "                    \"<br>ATR: \" + \"{:,}\".format(np.round(txt['ATR'],2)) +\n",
    "                    \"<br>ADX: \" + \"{:,}\".format(np.round(txt['ADX'],2))\n",
    "                    for txt in data.to_dict(orient = \"records\")]\n",
    "# Add Close Price\n",
    "fig.add_trace(\n",
    "go.Scatter(x=data.index, y=data['Close'], name=\"Close\", text = hovertext, line = {'color':'purple'}), row = 2, col =1,\n",
    ")\n",
    "# Add ADX\n",
    "fig.add_trace(\n",
    "go.Scatter(x=data.index, y=data['ADX'], name=\"ADX\", text = hovertext, line = {'color':'darkgray'}), row = 1, col =1,\n",
    ")\n",
    "# Add ATR\n",
    "fig.add_trace(\n",
    "go.Scatter(x=data.index, y=data['ATR'], name=\"ATR\", text = hovertext, line = {'color':'black'}), row = 1, col =1,\n",
    "secondary_y = True)                                                       \n",
    "# Add Volume\n",
    "fig.add_trace(\n",
    "go.Scatter(x=data.index, y=data['Volume'], name=\"Volume\", text = hovertext, line = {'color':'black'}), row = 3, col =1,\n",
    ")\n",
    "fig['layout']['yaxis1'].update(title='ADX')\n",
    "fig['layout']['yaxis2'].update(title='ATR')\n",
    "fig['layout']['yaxis3'].update(title='Close')\n",
    "fig['layout']['yaxis4'].update(title='Volume')\n",
    "fig.show()"
   ]
  },
  {
   "cell_type": "markdown",
   "metadata": {},
   "source": [
    "### Combined Analysis"
   ]
  },
  {
   "cell_type": "code",
   "execution_count": null,
   "metadata": {},
   "outputs": [],
   "source": [
    "combined_analysis = stockObj.technical_details\n",
    "combined_analysis.dropna()"
   ]
  },
  {
   "cell_type": "markdown",
   "metadata": {},
   "source": [
    "## <font color = \"red\">Predictions </font>"
   ]
  },
  {
   "cell_type": "markdown",
   "metadata": {},
   "source": [
    "### ARIMA"
   ]
  },
  {
   "cell_type": "code",
   "execution_count": null,
   "metadata": {
    "scrolled": true
   },
   "outputs": [],
   "source": [
    "data = stockObj.historical_prices['Close'].values\n",
    "result = get_arima_predictions(data, plot = True)\n",
    "pd.DataFrame([result[0]])"
   ]
  }
 ],
 "metadata": {
  "kernelspec": {
   "display_name": "Python 3.7.4 64-bit",
   "language": "python",
   "name": "python37464bitfbfa7aceeafb4dfc937102a23a64f667"
  },
  "language_info": {
   "codemirror_mode": {
    "name": "ipython",
    "version": 3
   },
   "file_extension": ".py",
   "mimetype": "text/x-python",
   "name": "python",
   "nbconvert_exporter": "python",
   "pygments_lexer": "ipython3",
   "version": "3.7.4"
  }
 },
 "nbformat": 4,
 "nbformat_minor": 2
}
