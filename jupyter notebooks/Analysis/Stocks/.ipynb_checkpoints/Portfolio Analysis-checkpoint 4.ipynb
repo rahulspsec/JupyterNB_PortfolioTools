{
 "cells": [
  {
   "cell_type": "code",
   "execution_count": 1,
   "metadata": {},
   "outputs": [
    {
     "name": "stdout",
     "output_type": "stream",
     "text": [
      "Requirement already up-to-date: portfoliotools in /Library/Frameworks/Python.framework/Versions/3.7/lib/python3.7/site-packages (1.0.12)\n",
      "Requirement already satisfied, skipping upgrade: beautifulsoup4 in /Library/Frameworks/Python.framework/Versions/3.7/lib/python3.7/site-packages (from portfoliotools) (4.8.1)\n",
      "Requirement already satisfied, skipping upgrade: pandas in /Library/Frameworks/Python.framework/Versions/3.7/lib/python3.7/site-packages (from portfoliotools) (0.25.1)\n",
      "Requirement already satisfied, skipping upgrade: numpy in /Library/Frameworks/Python.framework/Versions/3.7/lib/python3.7/site-packages (from portfoliotools) (1.17.1)\n",
      "Requirement already satisfied, skipping upgrade: mftool in /Library/Frameworks/Python.framework/Versions/3.7/lib/python3.7/site-packages (from portfoliotools) (1.3)\n",
      "Requirement already satisfied, skipping upgrade: requests in /Library/Frameworks/Python.framework/Versions/3.7/lib/python3.7/site-packages (from portfoliotools) (2.22.0)\n",
      "Requirement already satisfied, skipping upgrade: pandas-datareader in /Library/Frameworks/Python.framework/Versions/3.7/lib/python3.7/site-packages (from portfoliotools) (0.7.4)\n",
      "Requirement already satisfied, skipping upgrade: plotly in /Library/Frameworks/Python.framework/Versions/3.7/lib/python3.7/site-packages (from portfoliotools) (4.1.1)\n",
      "Requirement already satisfied, skipping upgrade: stocktrends in /Library/Frameworks/Python.framework/Versions/3.7/lib/python3.7/site-packages (from portfoliotools) (0.1.4)\n",
      "Requirement already satisfied, skipping upgrade: scipy in /Users/rahuljain/Library/Python/3.7/lib/python/site-packages (from portfoliotools) (1.4.1)\n",
      "Requirement already satisfied, skipping upgrade: scikit-learn in /Library/Frameworks/Python.framework/Versions/3.7/lib/python3.7/site-packages (from portfoliotools) (0.21.3)\n",
      "Requirement already satisfied, skipping upgrade: seaborn in /Library/Frameworks/Python.framework/Versions/3.7/lib/python3.7/site-packages (from portfoliotools) (0.9.0)\n",
      "Requirement already satisfied, skipping upgrade: statsmodels in /Library/Frameworks/Python.framework/Versions/3.7/lib/python3.7/site-packages (from portfoliotools) (0.10.1)\n",
      "Requirement already satisfied, skipping upgrade: nsepy in /Library/Frameworks/Python.framework/Versions/3.7/lib/python3.7/site-packages (from portfoliotools) (0.8)\n",
      "Requirement already satisfied, skipping upgrade: nsetools in /Library/Frameworks/Python.framework/Versions/3.7/lib/python3.7/site-packages (from portfoliotools) (1.0.11)\n",
      "Requirement already satisfied, skipping upgrade: soupsieve>=1.2 in /Library/Frameworks/Python.framework/Versions/3.7/lib/python3.7/site-packages (from beautifulsoup4->portfoliotools) (1.9.4)\n",
      "Requirement already satisfied, skipping upgrade: python-dateutil>=2.6.1 in /Library/Frameworks/Python.framework/Versions/3.7/lib/python3.7/site-packages (from pandas->portfoliotools) (2.8.0)\n",
      "Requirement already satisfied, skipping upgrade: pytz>=2017.2 in /Library/Frameworks/Python.framework/Versions/3.7/lib/python3.7/site-packages (from pandas->portfoliotools) (2019.2)\n",
      "Requirement already satisfied, skipping upgrade: bs4 in /Library/Frameworks/Python.framework/Versions/3.7/lib/python3.7/site-packages (from mftool->portfoliotools) (0.0.1)\n",
      "Requirement already satisfied, skipping upgrade: certifi>=2017.4.17 in /Library/Frameworks/Python.framework/Versions/3.7/lib/python3.7/site-packages (from requests->portfoliotools) (2019.9.11)\n",
      "Requirement already satisfied, skipping upgrade: idna<2.9,>=2.5 in /Library/Frameworks/Python.framework/Versions/3.7/lib/python3.7/site-packages (from requests->portfoliotools) (2.8)\n",
      "Requirement already satisfied, skipping upgrade: chardet<3.1.0,>=3.0.2 in /Library/Frameworks/Python.framework/Versions/3.7/lib/python3.7/site-packages (from requests->portfoliotools) (3.0.4)\n",
      "Requirement already satisfied, skipping upgrade: urllib3!=1.25.0,!=1.25.1,<1.26,>=1.21.1 in /Users/rahuljain/Library/Python/3.7/lib/python/site-packages (from requests->portfoliotools) (1.25.8)\n",
      "Requirement already satisfied, skipping upgrade: wrapt in /Users/rahuljain/Library/Python/3.7/lib/python/site-packages (from pandas-datareader->portfoliotools) (1.11.2)\n",
      "Requirement already satisfied, skipping upgrade: lxml in /Users/rahuljain/Library/Python/3.7/lib/python/site-packages (from pandas-datareader->portfoliotools) (4.6.3)\n",
      "Requirement already satisfied, skipping upgrade: retrying>=1.3.3 in /Library/Frameworks/Python.framework/Versions/3.7/lib/python3.7/site-packages (from plotly->portfoliotools) (1.3.3)\n",
      "Requirement already satisfied, skipping upgrade: six in /Library/Frameworks/Python.framework/Versions/3.7/lib/python3.7/site-packages (from plotly->portfoliotools) (1.15.0)\n",
      "Requirement already satisfied, skipping upgrade: joblib>=0.11 in /Library/Frameworks/Python.framework/Versions/3.7/lib/python3.7/site-packages (from scikit-learn->portfoliotools) (0.13.2)\n",
      "Requirement already satisfied, skipping upgrade: matplotlib>=1.4.3 in /Library/Frameworks/Python.framework/Versions/3.7/lib/python3.7/site-packages (from seaborn->portfoliotools) (3.1.1)\n",
      "Requirement already satisfied, skipping upgrade: patsy>=0.4.0 in /Library/Frameworks/Python.framework/Versions/3.7/lib/python3.7/site-packages (from statsmodels->portfoliotools) (0.5.1)\n",
      "Requirement already satisfied, skipping upgrade: click in /Library/Frameworks/Python.framework/Versions/3.7/lib/python3.7/site-packages (from nsepy->portfoliotools) (7.1.2)\n",
      "Requirement already satisfied, skipping upgrade: dateutils in /Library/Frameworks/Python.framework/Versions/3.7/lib/python3.7/site-packages (from nsetools->portfoliotools) (0.6.8)\n",
      "Requirement already satisfied, skipping upgrade: kiwisolver>=1.0.1 in /Library/Frameworks/Python.framework/Versions/3.7/lib/python3.7/site-packages (from matplotlib>=1.4.3->seaborn->portfoliotools) (1.1.0)\n",
      "Requirement already satisfied, skipping upgrade: cycler>=0.10 in /Library/Frameworks/Python.framework/Versions/3.7/lib/python3.7/site-packages (from matplotlib>=1.4.3->seaborn->portfoliotools) (0.10.0)\n",
      "Requirement already satisfied, skipping upgrade: pyparsing!=2.0.4,!=2.1.2,!=2.1.6,>=2.0.1 in /Library/Frameworks/Python.framework/Versions/3.7/lib/python3.7/site-packages (from matplotlib>=1.4.3->seaborn->portfoliotools) (2.4.2)\n",
      "Requirement already satisfied, skipping upgrade: argparse in /Library/Frameworks/Python.framework/Versions/3.7/lib/python3.7/site-packages (from dateutils->nsetools->portfoliotools) (1.4.0)\n",
      "Requirement already satisfied, skipping upgrade: setuptools in /Library/Frameworks/Python.framework/Versions/3.7/lib/python3.7/site-packages (from kiwisolver>=1.0.1->matplotlib>=1.4.3->seaborn->portfoliotools) (45.2.0)\n",
      "\u001b[33mWARNING: You are using pip version 19.2.3, however version 21.1.2 is available.\n",
      "You should consider upgrading via the 'pip install --upgrade pip' command.\u001b[0m\n",
      "Note: you may need to restart the kernel to use updated packages.\n"
     ]
    }
   ],
   "source": [
    "# Install package\n",
    "%pip install --upgrade portfoliotools"
   ]
  },
  {
   "cell_type": "code",
   "execution_count": 2,
   "metadata": {},
   "outputs": [],
   "source": [
    "from portfoliotools.screener.stock_screener import StockScreener\n",
    "from portfoliotools.screener.utility.util import get_ticker_list, getHistoricStockPrices, get_nse_index_list, get_port_ret_vol_sr\n",
    "from portfoliotools.screener.stock_screener import PortfolioStrategy, ADF_Reg_Model\n",
    "from tqdm import tqdm\n",
    "import pandas as pd\n",
    "import numpy as np\n",
    "import seaborn as sns\n",
    "import plotly.graph_objects as go\n",
    "import matplotlib.pyplot as plt\n",
    "from IPython.display import display_html\n",
    "from pandas.plotting import register_matplotlib_converters\n",
    "from plotly.subplots import make_subplots\n",
    "from datetime import datetime\n",
    "import warnings\n",
    "warnings.filterwarnings(\"ignore\")\n",
    "register_matplotlib_converters()\n",
    "%matplotlib inline\n",
    "sns.set()\n",
    "pd.options.display.max_columns = None\n",
    "pd.options.display.max_rows = None"
   ]
  },
  {
   "cell_type": "markdown",
   "metadata": {},
   "source": [
    "### <font color = 'red'>USER INPUT</font>"
   ]
  },
  {
   "cell_type": "code",
   "execution_count": 3,
   "metadata": {},
   "outputs": [],
   "source": [
    "tickers = get_ticker_list()\n",
    "asset_list = [ticker['Ticker'] for ticker in tickers]\n",
    "#asset_list.remove(\"GAIL\")\n",
    "#asset_list = ['ICICIBANK', 'HDFC', 'HDFCBANK', 'INFY', 'RELIANCE', 'ASIANPAINT', 'TCS', 'MARUTI', 'TATAMOTORS', 'CIPLA']\n",
    "#asset_list = ['DMART', 'BAJFINANCE', 'KOTAKBANK', 'BAJAJFINSV','TCS', 'PIDILITIND', 'HDFCBANK', 'SUPREMEIND', 'NAUKRI', 'ASIANPAINT', 'HDFC', 'MARUTI', 'SHREECEM', 'RELIANCE', 'DIVISLAB', 'ICICIBANK', 'BHARTIARTL',\n",
    "#             'WABCOINDIA', 'VGUARD', 'CUMMINSIND']\n",
    "\n",
    "cob = None #datetime(2020,2,1) # COB Date"
   ]
  },
  {
   "cell_type": "code",
   "execution_count": 4,
   "metadata": {},
   "outputs": [
    {
     "data": {
      "text/plain": [
       "[{'Name': 'Adani Ports', 'Ticker': 'ADANIPORTS', 'Sector': 'Infrastructure'},\n",
       " {'Name': 'Asian Paints', 'Ticker': 'ASIANPAINT', 'Sector': 'Consumer Goods'},\n",
       " {'Name': 'Axis Bank', 'Ticker': 'AXISBANK', 'Sector': 'Banking'},\n",
       " {'Name': 'Bajaj Auto', 'Ticker': 'BAJAJ-AUTO', 'Sector': 'Automobile'},\n",
       " {'Name': 'Bajaj Finance',\n",
       "  'Ticker': 'BAJFINANCE',\n",
       "  'Sector': 'Financial Services'},\n",
       " {'Name': 'Bajaj Finserv',\n",
       "  'Ticker': 'BAJAJFINSV',\n",
       "  'Sector': 'Financial Services'},\n",
       " {'Name': 'Bharti Airtel',\n",
       "  'Ticker': 'BHARTIARTL',\n",
       "  'Sector': 'Telecommunication'},\n",
       " {'Name': 'Bharat Petroleum',\n",
       "  'Ticker': 'BPCL',\n",
       "  'Sector': 'Energy - Oil & Gas'},\n",
       " {'Name': 'Britannia Industries',\n",
       "  'Ticker': 'BRITANNIA',\n",
       "  'Sector': 'Consumer Goods'},\n",
       " {'Name': 'Cipla', 'Ticker': 'CIPLA', 'Sector': 'Pharmaceuticals'},\n",
       " {'Name': 'Coal India', 'Ticker': 'COALINDIA', 'Sector': 'Energy & Mining'},\n",
       " {'Name': \"Divi's Laboratories\",\n",
       "  'Ticker': 'DIVISLAB',\n",
       "  'Sector': 'Pharmaceuticals'},\n",
       " {'Name': \"Dr. Reddy's Laboratories\",\n",
       "  'Ticker': 'DRREDDY',\n",
       "  'Sector': 'Pharmaceuticals'},\n",
       " {'Name': 'Eicher Motors', 'Ticker': 'EICHERMOT', 'Sector': 'Automobile'},\n",
       " {'Name': 'Grasim Industries', 'Ticker': 'GRASIM', 'Sector': 'Cement'},\n",
       " {'Name': 'HCL Technologies',\n",
       "  'Ticker': 'HCLTECH',\n",
       "  'Sector': 'Information Technology'},\n",
       " {'Name': 'HDFC', 'Ticker': 'HDFC', 'Sector': 'Financial Services'},\n",
       " {'Name': 'HDFC Bank', 'Ticker': 'HDFCBANK', 'Sector': 'Banking'},\n",
       " {'Name': 'HDFC Life', 'Ticker': 'HDFCLIFE', 'Sector': 'Insurance'},\n",
       " {'Name': 'Hero MotoCorp', 'Ticker': 'HEROMOTOCO', 'Sector': 'Automobile'},\n",
       " {'Name': 'Hindalco Industries', 'Ticker': 'HINDALCO', 'Sector': 'Metals'},\n",
       " {'Name': 'Hindustan Unilever',\n",
       "  'Ticker': 'HINDUNILVR',\n",
       "  'Sector': 'Consumer Goods'},\n",
       " {'Name': 'ICICI Bank', 'Ticker': 'ICICIBANK', 'Sector': 'Banking'},\n",
       " {'Name': 'IndusInd Bank', 'Ticker': 'INDUSINDBK', 'Sector': 'Banking'},\n",
       " {'Name': 'Infosys', 'Ticker': 'INFY', 'Sector': 'Information Technology'},\n",
       " {'Name': 'Indian Oil Corporation',\n",
       "  'Ticker': 'IOC',\n",
       "  'Sector': 'Energy - Oil & Gas'},\n",
       " {'Name': 'ITC Limited', 'Ticker': 'ITC', 'Sector': 'Consumer Goods'},\n",
       " {'Name': 'JSW Steel', 'Ticker': 'JSWSTEEL', 'Sector': 'Metals'},\n",
       " {'Name': 'Kotak Mahindra Bank', 'Ticker': 'KOTAKBANK', 'Sector': 'Banking'},\n",
       " {'Name': 'Larsen & Toubro', 'Ticker': 'LT', 'Sector': 'Construction'},\n",
       " {'Name': 'Mahindra & Mahindra', 'Ticker': 'M&M', 'Sector': 'Automobile'},\n",
       " {'Name': 'Maruti Suzuki', 'Ticker': 'MARUTI', 'Sector': 'Automobile'},\n",
       " {'Name': 'Nestlé India', 'Ticker': 'NESTLEIND', 'Sector': 'Consumer Goods'},\n",
       " {'Name': 'NTPC', 'Ticker': 'NTPC', 'Sector': 'Energy - Power'},\n",
       " {'Name': 'Oil and Natural Gas Corporation',\n",
       "  'Ticker': 'ONGC',\n",
       "  'Sector': 'Energy - Oil & Gas'},\n",
       " {'Name': 'Power Grid Corporation of India',\n",
       "  'Ticker': 'POWERGRID',\n",
       "  'Sector': 'Energy - Power'},\n",
       " {'Name': 'Reliance Industries',\n",
       "  'Ticker': 'RELIANCE',\n",
       "  'Sector': 'Energy - Oil & Gas'},\n",
       " {'Name': 'State Bank of India', 'Ticker': 'SBIN', 'Sector': 'Banking'},\n",
       " {'Name': 'SBI Life Insurance Company',\n",
       "  'Ticker': 'SBILIFE',\n",
       "  'Sector': 'Insurance'},\n",
       " {'Name': 'Shree Cements', 'Ticker': 'SHREECEM', 'Sector': 'Cement'},\n",
       " {'Name': 'Sun Pharmaceutical',\n",
       "  'Ticker': 'SUNPHARMA',\n",
       "  'Sector': 'Pharmaceuticals'},\n",
       " {'Name': 'Tata Motors', 'Ticker': 'TATAMOTORS', 'Sector': 'Automobile'},\n",
       " {'Name': 'Tata Steel', 'Ticker': 'TATASTEEL', 'Sector': 'Metals'},\n",
       " {'Name': 'Tata Consultancy Services',\n",
       "  'Ticker': 'TCS',\n",
       "  'Sector': 'Information Technology'},\n",
       " {'Name': 'Tata Consumer Products',\n",
       "  'Ticker': 'TATACONSUM',\n",
       "  'Sector': 'Consumer Goods'},\n",
       " {'Name': 'Tech Mahindra',\n",
       "  'Ticker': 'TECHM',\n",
       "  'Sector': 'Information Technology'},\n",
       " {'Name': 'Titan Company', 'Ticker': 'TITAN', 'Sector': 'Consumer Goods'},\n",
       " {'Name': 'UltraTech Cement', 'Ticker': 'ULTRACEMCO', 'Sector': 'Cement'},\n",
       " {'Name': 'United Phosphorus Limited', 'Ticker': 'UPL', 'Sector': 'Chemicals'},\n",
       " {'Name': 'Wipro', 'Ticker': 'WIPRO', 'Sector': 'Information Technology'}]"
      ]
     },
     "execution_count": 4,
     "metadata": {},
     "output_type": "execute_result"
    }
   ],
   "source": [
    "tickers"
   ]
  },
  {
   "cell_type": "markdown",
   "metadata": {},
   "source": [
    "### <font color = 'blue'>Portfolio Strategy Tools</font>"
   ]
  },
  {
   "cell_type": "code",
   "execution_count": 5,
   "metadata": {},
   "outputs": [],
   "source": [
    "strat = PortfolioStrategy(asset_list, period = 1000, cob = cob)"
   ]
  },
  {
   "cell_type": "markdown",
   "metadata": {},
   "source": [
    "#### Correlation Matrix"
   ]
  },
  {
   "cell_type": "code",
   "execution_count": 6,
   "metadata": {},
   "outputs": [
    {
     "data": {
      "image/png": "[encoded data removed]",
      "text/plain": [
       "<Figure size 792x648 with 2 Axes>"
      ]
     },
     "metadata": {
      "needs_background": "light"
     },
     "output_type": "display_data"
    }
   ],
   "source": [
    "fig = strat.plot_correlation_matrix()\n",
    "fig.show()"
   ]
  },
  {
   "cell_type": "markdown",
   "metadata": {},
   "source": [
    "#### Correlated Stocks"
   ]
  },
  {
   "cell_type": "code",
   "execution_count": 7,
   "metadata": {},
   "outputs": [
    {
     "name": "stdout",
     "output_type": "stream",
     "text": [
      "Highly Correlated:\n"
     ]
    },
    {
     "data": {
      "text/html": [
       "<div>\n",
       "<style scoped>\n",
       "    .dataframe tbody tr th:only-of-type {\n",
       "        vertical-align: middle;\n",
       "    }\n",
       "\n",
       "    .dataframe tbody tr th {\n",
       "        vertical-align: top;\n",
       "    }\n",
       "\n",
       "    .dataframe thead th {\n",
       "        text-align: right;\n",
       "    }\n",
       "</style>\n",
       "<table border=\"1\" class=\"dataframe\">\n",
       "  <thead>\n",
       "    <tr style=\"text-align: right;\">\n",
       "      <th></th>\n",
       "      <th>Stock 1</th>\n",
       "      <th>Stock 2</th>\n",
       "      <th>Correlation</th>\n",
       "    </tr>\n",
       "  </thead>\n",
       "  <tbody>\n",
       "    <tr>\n",
       "      <td>0</td>\n",
       "      <td>HCLTECH</td>\n",
       "      <td>INFY</td>\n",
       "      <td>0.983621</td>\n",
       "    </tr>\n",
       "    <tr>\n",
       "      <td>1</td>\n",
       "      <td>INFY</td>\n",
       "      <td>TCS</td>\n",
       "      <td>0.979517</td>\n",
       "    </tr>\n",
       "    <tr>\n",
       "      <td>2</td>\n",
       "      <td>HCLTECH</td>\n",
       "      <td>TCS</td>\n",
       "      <td>0.979010</td>\n",
       "    </tr>\n",
       "    <tr>\n",
       "      <td>3</td>\n",
       "      <td>JSWSTEEL</td>\n",
       "      <td>TATASTEEL</td>\n",
       "      <td>0.977799</td>\n",
       "    </tr>\n",
       "    <tr>\n",
       "      <td>4</td>\n",
       "      <td>DIVISLAB</td>\n",
       "      <td>TATACONSUM</td>\n",
       "      <td>0.972716</td>\n",
       "    </tr>\n",
       "    <tr>\n",
       "      <td>5</td>\n",
       "      <td>DIVISLAB</td>\n",
       "      <td>DRREDDY</td>\n",
       "      <td>0.965046</td>\n",
       "    </tr>\n",
       "    <tr>\n",
       "      <td>6</td>\n",
       "      <td>HINDALCO</td>\n",
       "      <td>TATASTEEL</td>\n",
       "      <td>0.962325</td>\n",
       "    </tr>\n",
       "    <tr>\n",
       "      <td>7</td>\n",
       "      <td>GRASIM</td>\n",
       "      <td>HINDALCO</td>\n",
       "      <td>0.962237</td>\n",
       "    </tr>\n",
       "    <tr>\n",
       "      <td>8</td>\n",
       "      <td>ADANIPORTS</td>\n",
       "      <td>ULTRACEMCO</td>\n",
       "      <td>0.955773</td>\n",
       "    </tr>\n",
       "    <tr>\n",
       "      <td>9</td>\n",
       "      <td>IOC</td>\n",
       "      <td>ONGC</td>\n",
       "      <td>0.954377</td>\n",
       "    </tr>\n",
       "    <tr>\n",
       "      <td>10</td>\n",
       "      <td>HDFC</td>\n",
       "      <td>ICICIBANK</td>\n",
       "      <td>0.954285</td>\n",
       "    </tr>\n",
       "    <tr>\n",
       "      <td>11</td>\n",
       "      <td>HDFC</td>\n",
       "      <td>HDFCBANK</td>\n",
       "      <td>0.950880</td>\n",
       "    </tr>\n",
       "  </tbody>\n",
       "</table>\n",
       "</div>"
      ]
     },
     "metadata": {},
     "output_type": "display_data"
    },
    {
     "name": "stdout",
     "output_type": "stream",
     "text": [
      "\n",
      "Inversely Correlated:\n"
     ]
    },
    {
     "data": {
      "text/html": [
       "<div>\n",
       "<style scoped>\n",
       "    .dataframe tbody tr th:only-of-type {\n",
       "        vertical-align: middle;\n",
       "    }\n",
       "\n",
       "    .dataframe tbody tr th {\n",
       "        vertical-align: top;\n",
       "    }\n",
       "\n",
       "    .dataframe thead th {\n",
       "        text-align: right;\n",
       "    }\n",
       "</style>\n",
       "<table border=\"1\" class=\"dataframe\">\n",
       "  <thead>\n",
       "    <tr style=\"text-align: right;\">\n",
       "      <th></th>\n",
       "      <th>Stock 1</th>\n",
       "      <th>Stock 2</th>\n",
       "      <th>Correlation</th>\n",
       "    </tr>\n",
       "  </thead>\n",
       "  <tbody>\n",
       "  </tbody>\n",
       "</table>\n",
       "</div>"
      ]
     },
     "metadata": {},
     "output_type": "display_data"
    }
   ],
   "source": [
    "corr_pair = strat.get_correlation_pair()\n",
    "print(\"Highly Correlated:\")\n",
    "display_html(corr_pair[corr_pair['Correlation'] > .95])\n",
    "print(\"\\nInversely Correlated:\")\n",
    "display_html(corr_pair[corr_pair['Correlation'] < -.90])"
   ]
  },
  {
   "cell_type": "markdown",
   "metadata": {},
   "source": [
    "#### <font color = 'black'>Efficient Frontier</font>"
   ]
  },
  {
   "cell_type": "code",
   "execution_count": null,
   "metadata": {},
   "outputs": [],
   "source": [
    "market_portfolio = strat.get_efficient_market_portfolio(plot = True, num_ports = 500, show_frontier =True) #plot =True to plot Frontier"
   ]
  },
  {
   "cell_type": "markdown",
   "metadata": {},
   "source": [
    "#### Market Portfolio"
   ]
  },
  {
   "cell_type": "code",
   "execution_count": null,
   "metadata": {},
   "outputs": [],
   "source": [
    "market_portfolio = market_portfolio.T\n",
    "market_portfolio = market_portfolio[market_portfolio['MP'] != 0.00]\n",
    "plt.pie(market_portfolio.iloc[:-3,0], labels=market_portfolio.index.tolist()[:-3])\n",
    "market_portfolio"
   ]
  },
  {
   "cell_type": "markdown",
   "metadata": {},
   "source": [
    "**Ticker Performance**"
   ]
  },
  {
   "cell_type": "code",
   "execution_count": null,
   "metadata": {},
   "outputs": [],
   "source": [
    "strat.calcStat(format_result = True)"
   ]
  },
  {
   "cell_type": "code",
   "execution_count": null,
   "metadata": {},
   "outputs": [],
   "source": []
  }
 ],
 "metadata": {
  "kernelspec": {
   "display_name": "Python 3.7.4 64-bit",
   "language": "python",
   "name": "python37464bitfbfa7aceeafb4dfc937102a23a64f667"
  },
  "language_info": {
   "codemirror_mode": {
    "name": "ipython",
    "version": 3
   },
   "file_extension": ".py",
   "mimetype": "text/x-python",
   "name": "python",
   "nbconvert_exporter": "python",
   "pygments_lexer": "ipython3",
   "version": "3.7.4"
  }
 },
 "nbformat": 4,
 "nbformat_minor": 2
}
