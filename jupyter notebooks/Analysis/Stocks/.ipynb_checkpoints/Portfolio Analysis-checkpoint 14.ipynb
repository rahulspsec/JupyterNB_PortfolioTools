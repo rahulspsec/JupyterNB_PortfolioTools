{
 "cells": [
  {
   "cell_type": "code",
   "execution_count": 1,
   "metadata": {},
   "outputs": [
    {
     "name": "stdout",
     "output_type": "stream",
     "text": [
      "Collecting portfoliotools\n",
      "  Using cached https://files.pythonhosted.org/packages/34/f9/000662993d96418a867960a46e3c3190347e0ff9d45b66edf563be6d1e42/portfoliotools-1.0.15-py3-none-any.whl\n",
      "Requirement already satisfied, skipping upgrade: stocktrends in /Library/Frameworks/Python.framework/Versions/3.7/lib/python3.7/site-packages (from portfoliotools) (0.1.4)\n",
      "Requirement already satisfied, skipping upgrade: requests in /Library/Frameworks/Python.framework/Versions/3.7/lib/python3.7/site-packages (from portfoliotools) (2.22.0)\n",
      "Requirement already satisfied, skipping upgrade: seaborn in /Library/Frameworks/Python.framework/Versions/3.7/lib/python3.7/site-packages (from portfoliotools) (0.9.0)\n",
      "Requirement already satisfied, skipping upgrade: scikit-learn in /Library/Frameworks/Python.framework/Versions/3.7/lib/python3.7/site-packages (from portfoliotools) (0.21.3)\n",
      "Requirement already satisfied, skipping upgrade: pandas in /Library/Frameworks/Python.framework/Versions/3.7/lib/python3.7/site-packages (from portfoliotools) (0.25.1)\n",
      "Requirement already satisfied, skipping upgrade: numpy in /Library/Frameworks/Python.framework/Versions/3.7/lib/python3.7/site-packages (from portfoliotools) (1.17.1)\n",
      "Requirement already satisfied, skipping upgrade: nsetools in /Library/Frameworks/Python.framework/Versions/3.7/lib/python3.7/site-packages (from portfoliotools) (1.0.11)\n",
      "Requirement already satisfied, skipping upgrade: pandas-datareader in /Library/Frameworks/Python.framework/Versions/3.7/lib/python3.7/site-packages (from portfoliotools) (0.7.4)\n",
      "Requirement already satisfied, skipping upgrade: plotly in /Library/Frameworks/Python.framework/Versions/3.7/lib/python3.7/site-packages (from portfoliotools) (4.1.1)\n",
      "Requirement already satisfied, skipping upgrade: beautifulsoup4 in /Library/Frameworks/Python.framework/Versions/3.7/lib/python3.7/site-packages (from portfoliotools) (4.8.1)\n",
      "Requirement already satisfied, skipping upgrade: statsmodels in /Library/Frameworks/Python.framework/Versions/3.7/lib/python3.7/site-packages (from portfoliotools) (0.10.1)\n",
      "Requirement already satisfied, skipping upgrade: yfinance in /Users/rahuljain/Library/Python/3.7/lib/python/site-packages (from portfoliotools) (0.1.55)\n",
      "Requirement already satisfied, skipping upgrade: scipy in /Users/rahuljain/Library/Python/3.7/lib/python/site-packages (from portfoliotools) (1.4.1)\n",
      "Requirement already satisfied, skipping upgrade: mftool in /Library/Frameworks/Python.framework/Versions/3.7/lib/python3.7/site-packages (from portfoliotools) (1.3)\n",
      "Requirement already satisfied, skipping upgrade: nsepy in /Library/Frameworks/Python.framework/Versions/3.7/lib/python3.7/site-packages (from portfoliotools) (0.8)\n",
      "Requirement already satisfied, skipping upgrade: chardet<3.1.0,>=3.0.2 in /Library/Frameworks/Python.framework/Versions/3.7/lib/python3.7/site-packages (from requests->portfoliotools) (3.0.4)\n",
      "Requirement already satisfied, skipping upgrade: urllib3!=1.25.0,!=1.25.1,<1.26,>=1.21.1 in /Users/rahuljain/Library/Python/3.7/lib/python/site-packages (from requests->portfoliotools) (1.25.8)\n",
      "Requirement already satisfied, skipping upgrade: idna<2.9,>=2.5 in /Library/Frameworks/Python.framework/Versions/3.7/lib/python3.7/site-packages (from requests->portfoliotools) (2.8)\n",
      "Requirement already satisfied, skipping upgrade: certifi>=2017.4.17 in /Library/Frameworks/Python.framework/Versions/3.7/lib/python3.7/site-packages (from requests->portfoliotools) (2019.9.11)\n",
      "Requirement already satisfied, skipping upgrade: matplotlib>=1.4.3 in /Library/Frameworks/Python.framework/Versions/3.7/lib/python3.7/site-packages (from seaborn->portfoliotools) (3.1.1)\n",
      "Requirement already satisfied, skipping upgrade: joblib>=0.11 in /Library/Frameworks/Python.framework/Versions/3.7/lib/python3.7/site-packages (from scikit-learn->portfoliotools) (0.13.2)\n",
      "Requirement already satisfied, skipping upgrade: python-dateutil>=2.6.1 in /Library/Frameworks/Python.framework/Versions/3.7/lib/python3.7/site-packages (from pandas->portfoliotools) (2.8.0)\n",
      "Requirement already satisfied, skipping upgrade: pytz>=2017.2 in /Library/Frameworks/Python.framework/Versions/3.7/lib/python3.7/site-packages (from pandas->portfoliotools) (2019.2)\n",
      "Requirement already satisfied, skipping upgrade: six in /Library/Frameworks/Python.framework/Versions/3.7/lib/python3.7/site-packages (from nsetools->portfoliotools) (1.15.0)\n",
      "Requirement already satisfied, skipping upgrade: dateutils in /Library/Frameworks/Python.framework/Versions/3.7/lib/python3.7/site-packages (from nsetools->portfoliotools) (0.6.8)\n",
      "Requirement already satisfied, skipping upgrade: lxml in /Users/rahuljain/Library/Python/3.7/lib/python/site-packages (from pandas-datareader->portfoliotools) (4.6.3)\n",
      "Requirement already satisfied, skipping upgrade: wrapt in /Users/rahuljain/Library/Python/3.7/lib/python/site-packages (from pandas-datareader->portfoliotools) (1.11.2)\n",
      "Requirement already satisfied, skipping upgrade: retrying>=1.3.3 in /Library/Frameworks/Python.framework/Versions/3.7/lib/python3.7/site-packages (from plotly->portfoliotools) (1.3.3)\n",
      "Requirement already satisfied, skipping upgrade: soupsieve>=1.2 in /Library/Frameworks/Python.framework/Versions/3.7/lib/python3.7/site-packages (from beautifulsoup4->portfoliotools) (1.9.4)\n",
      "Requirement already satisfied, skipping upgrade: patsy>=0.4.0 in /Library/Frameworks/Python.framework/Versions/3.7/lib/python3.7/site-packages (from statsmodels->portfoliotools) (0.5.1)\n",
      "Requirement already satisfied, skipping upgrade: multitasking>=0.0.7 in /Library/Frameworks/Python.framework/Versions/3.7/lib/python3.7/site-packages (from yfinance->portfoliotools) (0.0.9)\n",
      "Requirement already satisfied, skipping upgrade: bs4 in /Library/Frameworks/Python.framework/Versions/3.7/lib/python3.7/site-packages (from mftool->portfoliotools) (0.0.1)\n",
      "Requirement already satisfied, skipping upgrade: click in /Library/Frameworks/Python.framework/Versions/3.7/lib/python3.7/site-packages (from nsepy->portfoliotools) (7.1.2)\n",
      "Requirement already satisfied, skipping upgrade: kiwisolver>=1.0.1 in /Library/Frameworks/Python.framework/Versions/3.7/lib/python3.7/site-packages (from matplotlib>=1.4.3->seaborn->portfoliotools) (1.1.0)\n",
      "Requirement already satisfied, skipping upgrade: pyparsing!=2.0.4,!=2.1.2,!=2.1.6,>=2.0.1 in /Library/Frameworks/Python.framework/Versions/3.7/lib/python3.7/site-packages (from matplotlib>=1.4.3->seaborn->portfoliotools) (2.4.2)\n",
      "Requirement already satisfied, skipping upgrade: cycler>=0.10 in /Library/Frameworks/Python.framework/Versions/3.7/lib/python3.7/site-packages (from matplotlib>=1.4.3->seaborn->portfoliotools) (0.10.0)\n",
      "Requirement already satisfied, skipping upgrade: argparse in /Library/Frameworks/Python.framework/Versions/3.7/lib/python3.7/site-packages (from dateutils->nsetools->portfoliotools) (1.4.0)\n",
      "Requirement already satisfied, skipping upgrade: setuptools in /Library/Frameworks/Python.framework/Versions/3.7/lib/python3.7/site-packages (from kiwisolver>=1.0.1->matplotlib>=1.4.3->seaborn->portfoliotools) (45.2.0)\n",
      "Installing collected packages: portfoliotools\n",
      "  Found existing installation: portfoliotools 1.0.12\n",
      "    Uninstalling portfoliotools-1.0.12:\n",
      "      Successfully uninstalled portfoliotools-1.0.12\n",
      "Successfully installed portfoliotools-1.0.15\n",
      "\u001b[33mWARNING: You are using pip version 19.2.3, however version 21.1.3 is available.\n",
      "You should consider upgrading via the 'pip install --upgrade pip' command.\u001b[0m\n",
      "Note: you may need to restart the kernel to use updated packages.\n"
     ]
    }
   ],
   "source": [
    "# Install package\n",
    "%pip install --upgrade portfoliotools"
   ]
  },
  {
   "cell_type": "code",
   "execution_count": 2,
   "metadata": {},
   "outputs": [],
   "source": [
    "from portfoliotools.screener.stock_screener import StockScreener\n",
    "from portfoliotools.screener.utility.util import get_ticker_list, getHistoricStockPrices, get_nse_index_list, get_port_ret_vol_sr\n",
    "from portfoliotools.screener.stock_screener import PortfolioStrategy, ADF_Reg_Model\n",
    "from tqdm import tqdm\n",
    "import pandas as pd\n",
    "import numpy as np\n",
    "import seaborn as sns\n",
    "import plotly.graph_objects as go\n",
    "import matplotlib.pyplot as plt\n",
    "from IPython.display import display_html\n",
    "from pandas.plotting import register_matplotlib_converters\n",
    "from plotly.subplots import make_subplots\n",
    "from datetime import datetime\n",
    "import warnings\n",
    "warnings.filterwarnings(\"ignore\")\n",
    "register_matplotlib_converters()\n",
    "%matplotlib inline\n",
    "sns.set()\n",
    "pd.options.display.max_columns = None\n",
    "pd.options.display.max_rows = None"
   ]
  },
  {
   "cell_type": "markdown",
   "metadata": {},
   "source": [
    "### <font color = 'red'>USER INPUT</font>"
   ]
  },
  {
   "cell_type": "code",
   "execution_count": 3,
   "metadata": {},
   "outputs": [],
   "source": [
    "tickers = get_ticker_list()\n",
    "asset_list = [ticker['Ticker'] for ticker in tickers]\n",
    "#asset_list.remove(\"GAIL\")\n",
    "#asset_list = ['ICICIBANK', 'HDFC', 'HDFCBANK', 'INFY', 'RELIANCE', 'ASIANPAINT', 'TCS', 'MARUTI', 'TATAMOTORS', 'CIPLA']\n",
    "asset_list = asset_list + [\"ABBOTINDIA\", \"ACC\", \"ADANIENT\", \"ADANIGREEN\", \"ADANITRANS\", \"ALKEM\", \"AMBUJACEM\", \"APOLLOHOSP\", \"AUROPHARMA\", \"DMART\", \"BAJAJHLDNG\", \"BANDHANBNK\", \"BERGEPAINT\", \"BIOCON\", \"BOSCHLTD\", \"CADILAHC\", \"COLPAL\", \"DABUR\", \"DLF\", \"GAIL\", \"GODREJCP\", \"HAVELLS\", \"HDFCAMC\", \"HINDPETRO\", \"ICICIGI\", \"ICICIPRULI\", \"IGL\", \"NAUKRI\", \"INDIGO\", \"JUBLFOOD\", \"LTI\", \"LUPIN\", \"MARICO\", \"MOTHERSUMI\", \"MRF\", \"MUTHOOTFIN\", \"NMDC\", \"PETRONET\", \"PIDILITIND\", \"PEL\", \"PGHH\", \"PNB\", \"SBICARD\", \"SIEMENS\", \"TORNTPHARM\", \"UBL\", \"MCDOWELL-N\", \"VEDL\", \"YESBANK\"]\n",
    "\n",
    "cob = None #datetime(2020,2,1) # COB Date"
   ]
  },
  {
   "cell_type": "markdown",
   "metadata": {},
   "source": [
    "### <font color = 'blue'>Portfolio Strategy Tools</font>"
   ]
  },
  {
   "cell_type": "code",
   "execution_count": null,
   "metadata": {},
   "outputs": [
    {
     "name": "stderr",
     "output_type": "stream",
     "text": [
      "Exception in thread Thread-4:\n",
      "Traceback (most recent call last):\n",
      "  File \"/Library/Frameworks/Python.framework/Versions/3.7/lib/python3.7/threading.py\", line 926, in _bootstrap_inner\n",
      "    self.run()\n",
      "  File \"/Library/Frameworks/Python.framework/Versions/3.7/lib/python3.7/threading.py\", line 870, in run\n",
      "    self._target(*self._args, **self._kwargs)\n",
      "  File \"/Library/Frameworks/Python.framework/Versions/3.7/lib/python3.7/site-packages/multitasking/__init__.py\", line 102, in _run_via_pool\n",
      "    return callee(*args, **kwargs)\n",
      "  File \"/Users/rahuljain/Library/Python/3.7/lib/python/site-packages/yfinance/multi.py\", line 167, in _download_one_threaded\n",
      "    actions, period, interval, prepost, proxy, rounding)\n",
      "  File \"/Users/rahuljain/Library/Python/3.7/lib/python/site-packages/yfinance/multi.py\", line 182, in _download_one\n",
      "    rounding=rounding, many=True)\n",
      "  File \"/Users/rahuljain/Library/Python/3.7/lib/python/site-packages/yfinance/base.py\", line 156, in history\n",
      "    data = data.json()\n",
      "  File \"/Library/Frameworks/Python.framework/Versions/3.7/lib/python3.7/site-packages/requests/models.py\", line 897, in json\n",
      "    return complexjson.loads(self.text, **kwargs)\n",
      "  File \"/Library/Frameworks/Python.framework/Versions/3.7/lib/python3.7/site-packages/simplejson/__init__.py\", line 525, in loads\n",
      "    return _default_decoder.decode(s)\n",
      "  File \"/Library/Frameworks/Python.framework/Versions/3.7/lib/python3.7/site-packages/simplejson/decoder.py\", line 370, in decode\n",
      "    obj, end = self.raw_decode(s)\n",
      "  File \"/Library/Frameworks/Python.framework/Versions/3.7/lib/python3.7/site-packages/simplejson/decoder.py\", line 400, in raw_decode\n",
      "    return self.scan_once(s, idx=_w(s, idx).end())\n",
      "simplejson.errors.JSONDecodeError: Expecting value: line 1 column 1 (char 0)\n",
      "\n"
     ]
    }
   ],
   "source": [
    "strat = PortfolioStrategy(asset_list, period = 1000, cob = cob)"
   ]
  },
  {
   "cell_type": "markdown",
   "metadata": {},
   "source": [
    "#### Correlation Matrix"
   ]
  },
  {
   "cell_type": "code",
   "execution_count": null,
   "metadata": {},
   "outputs": [],
   "source": [
    "fig = strat.plot_correlation_matrix()\n",
    "fig.show()"
   ]
  },
  {
   "cell_type": "markdown",
   "metadata": {},
   "source": [
    "#### Correlated Stocks"
   ]
  },
  {
   "cell_type": "code",
   "execution_count": null,
   "metadata": {},
   "outputs": [],
   "source": [
    "corr_pair = strat.get_correlation_pair()\n",
    "print(\"Highly Correlated:\")\n",
    "display_html(corr_pair[corr_pair['Correlation'] > .95])\n",
    "print(\"\\nInversely Correlated:\")\n",
    "display_html(corr_pair[corr_pair['Correlation'] < -.90])"
   ]
  },
  {
   "cell_type": "markdown",
   "metadata": {},
   "source": [
    "#### <font color = 'black'>Efficient Frontier</font>"
   ]
  },
  {
   "cell_type": "code",
   "execution_count": null,
   "metadata": {},
   "outputs": [],
   "source": [
    "market_portfolio = strat.get_efficient_market_portfolio(plot = True, num_ports = 500, show_frontier =True) #plot =True to plot Frontier"
   ]
  },
  {
   "cell_type": "markdown",
   "metadata": {},
   "source": [
    "#### Market Portfolio"
   ]
  },
  {
   "cell_type": "code",
   "execution_count": null,
   "metadata": {},
   "outputs": [],
   "source": [
    "market_portfolio = market_portfolio.T\n",
    "market_portfolio = market_portfolio[market_portfolio['MP'] != 0.00]\n",
    "plt.pie(market_portfolio.iloc[:-3,0], labels=market_portfolio.index.tolist()[:-3])\n",
    "market_portfolio"
   ]
  },
  {
   "cell_type": "markdown",
   "metadata": {},
   "source": [
    "**Ticker Performance**"
   ]
  },
  {
   "cell_type": "code",
   "execution_count": null,
   "metadata": {},
   "outputs": [],
   "source": [
    "strat.calcStat(format_result = True)"
   ]
  },
  {
   "cell_type": "code",
   "execution_count": null,
   "metadata": {},
   "outputs": [],
   "source": []
  }
 ],
 "metadata": {
  "kernelspec": {
   "display_name": "Python 3.7.4 64-bit",
   "language": "python",
   "name": "python37464bitfbfa7aceeafb4dfc937102a23a64f667"
  },
  "language_info": {
   "codemirror_mode": {
    "name": "ipython",
    "version": 3
   },
   "file_extension": ".py",
   "mimetype": "text/x-python",
   "name": "python",
   "nbconvert_exporter": "python",
   "pygments_lexer": "ipython3",
   "version": "3.7.4"
  }
 },
 "nbformat": 4,
 "nbformat_minor": 2
}
