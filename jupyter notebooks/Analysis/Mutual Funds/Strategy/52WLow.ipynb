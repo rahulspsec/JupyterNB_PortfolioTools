{
 "cells": [
  {
   "cell_type": "code",
   "execution_count": 1,
   "metadata": {},
   "outputs": [],
   "source": [
    "import pandas as pd\n",
    "from datetime import date, timedelta, datetime\n",
    "import numpy as np\n",
    "from portfoliotools.screener.mutual_fund_screener import MutualFundScreener\n",
    "import random\n",
    "from tqdm import tqdm"
   ]
  },
  {
   "cell_type": "code",
   "execution_count": 2,
   "metadata": {},
   "outputs": [],
   "source": [
    "def getFundsBelow52WHigh(sample = 50, drawdown_perc = 5, showAsDf = False):\n",
    "    \n",
    "    result  = pd.DataFrame()\n",
    "    message = \"\"\n",
    "    try:\n",
    "        obj = MutualFundScreener()\n",
    "        schemeCodes = obj.get_all_schemes()\n",
    "        schemeCodes = schemeCodes[~schemeCodes['scheme_name'].str.contains('Regular',na=False, case=False)]\n",
    "        schemeCodes = schemeCodes[~schemeCodes['scheme_name'].str.contains('idcw',na=False, case=False)]\n",
    "        schemeCodes = schemeCodes[~schemeCodes['scheme_name'].str.contains('dividend',na=False, case=False)]\n",
    "        schemeCodes = schemeCodes[~schemeCodes['scheme_name'].str.contains('capital withdrawal',na=False, case=False)]\n",
    "        schemeCodes = schemeCodes[~schemeCodes['scheme_name'].str.contains('bonus',na=False, case=False)]\n",
    "        schemeCodes = list(schemeCodes.index.values)\n",
    "        schemeCodes = random.sample(schemeCodes, sample)\n",
    "        result = pd.DataFrame()\n",
    "\n",
    "        for schemeCode in tqdm(schemeCodes):\n",
    "            try:\n",
    "                hist_nav = obj.get_historical_nav([schemeCode])\n",
    "                if result.empty:\n",
    "                    start_dt = hist_nav.index.min()\n",
    "                    end_dt = hist_nav.index.max()\n",
    "                    date_range = pd.date_range(start_dt, end_dt, freq='D')\n",
    "                    hist_nav = hist_nav.reindex(index = date_range, method='ffill')\n",
    "                    result = hist_nav\n",
    "                else:\n",
    "                    start_dt = min(result.index.min(),hist_nav.index.min())\n",
    "                    end_dt = max(result.index.max(), hist_nav.index.max())\n",
    "                    date_range = pd.date_range(start_dt, end_dt, freq='D')\n",
    "                    result = result.reindex(index = date_range, method='ffill')\n",
    "                    hist_nav = hist_nav.reindex(index = date_range, method='ffill')\n",
    "                    result = result.join(hist_nav)\n",
    "            except:\n",
    "                pass\n",
    "        drawdown = (1 - result/result.rolling(365).max())*100\n",
    "        drawdown = drawdown.tail(1).transpose()\n",
    "        drawdown = drawdown[drawdown[drawdown.columns.values[0]] > drawdown_perc]\n",
    "        eligSchemes = drawdown.index.values\n",
    "        schemes = obj.get_all_schemes()\n",
    "        result = schemes[schemes.index.isin(eligSchemes)]\n",
    "\n",
    "        for row in list(result.index.values):\n",
    "            message += formatDrawDownMsg(result.loc[row])\n",
    "    except:\n",
    "        message = 'Failed to fetch fund details'\n",
    "    \n",
    "    return result if showAsDf else message"
   ]
  },
  {
   "cell_type": "code",
   "execution_count": 3,
   "metadata": {},
   "outputs": [
    {
     "name": "stderr",
     "output_type": "stream",
     "text": [
      "100%|██████████| 10/10 [00:02<00:00,  3.80it/s]\n"
     ]
    },
    {
     "data": {
      "text/html": [
       "<div>\n",
       "<style scoped>\n",
       "    .dataframe tbody tr th:only-of-type {\n",
       "        vertical-align: middle;\n",
       "    }\n",
       "\n",
       "    .dataframe tbody tr th {\n",
       "        vertical-align: top;\n",
       "    }\n",
       "\n",
       "    .dataframe thead th {\n",
       "        text-align: right;\n",
       "    }\n",
       "</style>\n",
       "<table border=\"1\" class=\"dataframe\">\n",
       "  <thead>\n",
       "    <tr style=\"text-align: right;\">\n",
       "      <th></th>\n",
       "      <th>scheme_isin1</th>\n",
       "      <th>scheme_isin2</th>\n",
       "      <th>scheme_name</th>\n",
       "    </tr>\n",
       "    <tr>\n",
       "      <th>scheme_code</th>\n",
       "      <th></th>\n",
       "      <th></th>\n",
       "      <th></th>\n",
       "    </tr>\n",
       "  </thead>\n",
       "  <tbody>\n",
       "    <tr>\n",
       "      <th>101762</th>\n",
       "      <td>INF179K01608</td>\n",
       "      <td>-</td>\n",
       "      <td>HDFC Flexi Cap Fund - Growth Plan</td>\n",
       "    </tr>\n",
       "    <tr>\n",
       "      <th>141865</th>\n",
       "      <td>INF209KB1JB9</td>\n",
       "      <td>-</td>\n",
       "      <td>Aditya Birla Sun Life Resurgent India Fund - S...</td>\n",
       "    </tr>\n",
       "    <tr>\n",
       "      <th>147359</th>\n",
       "      <td>INF200KA1G34</td>\n",
       "      <td>-</td>\n",
       "      <td>SBI Capital Protection Oriented Fund - Series ...</td>\n",
       "    </tr>\n",
       "  </tbody>\n",
       "</table>\n",
       "</div>"
      ],
      "text/plain": [
       "             scheme_isin1 scheme_isin2  \\\n",
       "scheme_code                              \n",
       "101762       INF179K01608            -   \n",
       "141865       INF209KB1JB9            -   \n",
       "147359       INF200KA1G34            -   \n",
       "\n",
       "                                                   scheme_name  \n",
       "scheme_code                                                     \n",
       "101762                       HDFC Flexi Cap Fund - Growth Plan  \n",
       "141865       Aditya Birla Sun Life Resurgent India Fund - S...  \n",
       "147359       SBI Capital Protection Oriented Fund - Series ...  "
      ]
     },
     "execution_count": 3,
     "metadata": {},
     "output_type": "execute_result"
    }
   ],
   "source": [
    "getFundsBelow52WHigh(10, 0, showAsDf=True)"
   ]
  },
  {
   "cell_type": "code",
   "execution_count": 4,
   "metadata": {},
   "outputs": [
    {
     "name": "stderr",
     "output_type": "stream",
     "text": [
      "100%|██████████| 10/10 [00:01<00:00,  6.31it/s]\n"
     ]
    }
   ],
   "source": [
    "obj = MutualFundScreener()\n",
    "schemeCodes = obj.get_all_schemes()\n",
    "schemeCodes = schemeCodes[~schemeCodes['scheme_name'].str.contains('Regular',na=False, case=False)]\n",
    "schemeCodes = schemeCodes[~schemeCodes['scheme_name'].str.contains('idcw',na=False, case=False)]\n",
    "schemeCodes = schemeCodes[~schemeCodes['scheme_name'].str.contains('dividend',na=False, case=False)]\n",
    "schemeCodes = schemeCodes[~schemeCodes['scheme_name'].str.contains('capital withdrawal',na=False, case=False)]\n",
    "schemeCodes = schemeCodes[~schemeCodes['scheme_name'].str.contains('bonus',na=False, case=False)]\n",
    "schemeCodes = list(schemeCodes.index.values)\n",
    "schemeCodes = random.sample(schemeCodes, 10)\n",
    "result = pd.DataFrame()\n",
    "\n",
    "for schemeCode in tqdm(schemeCodes):\n",
    "    hist_nav = obj.get_historical_nav([schemeCode])\n",
    "    if result.empty:\n",
    "        start_dt = hist_nav.index.min()\n",
    "        end_dt = hist_nav.index.max()\n",
    "        date_range = pd.date_range(start_dt, end_dt, freq='D')\n",
    "        hist_nav = hist_nav.reindex(index = date_range, method='ffill')\n",
    "        result = hist_nav\n",
    "    else:\n",
    "        start_dt = min(result.index.min(),hist_nav.index.min())\n",
    "        end_dt = max(result.index.max(), hist_nav.index.max())\n",
    "        date_range = pd.date_range(start_dt, end_dt, freq='D')\n",
    "        result = result.reindex(index = date_range, method='ffill')\n",
    "        hist_nav = hist_nav.reindex(index = date_range, method='ffill')\n",
    "        result = result.join(hist_nav)\n"
   ]
  },
  {
   "cell_type": "code",
   "execution_count": 5,
   "metadata": {},
   "outputs": [],
   "source": [
    "drawdown = (1 - result/result.rolling(365).max())*100\n",
    "drawdown = drawdown.tail(1).transpose()\n",
    "drawdown = drawdown[drawdown[drawdown.columns.values[0]] > 5]\n",
    "eligSchemes = drawdown.index.values\n",
    "schemes = obj.get_all_schemes()\n",
    "result = schemes[schemes.index.isin(eligSchemes)]"
   ]
  },
  {
   "cell_type": "code",
   "execution_count": 6,
   "metadata": {},
   "outputs": [
    {
     "data": {
      "text/html": [
       "<div>\n",
       "<style scoped>\n",
       "    .dataframe tbody tr th:only-of-type {\n",
       "        vertical-align: middle;\n",
       "    }\n",
       "\n",
       "    .dataframe tbody tr th {\n",
       "        vertical-align: top;\n",
       "    }\n",
       "\n",
       "    .dataframe thead th {\n",
       "        text-align: right;\n",
       "    }\n",
       "</style>\n",
       "<table border=\"1\" class=\"dataframe\">\n",
       "  <thead>\n",
       "    <tr style=\"text-align: right;\">\n",
       "      <th></th>\n",
       "      <th>scheme_isin1</th>\n",
       "      <th>scheme_isin2</th>\n",
       "      <th>scheme_name</th>\n",
       "    </tr>\n",
       "    <tr>\n",
       "      <th>scheme_code</th>\n",
       "      <th></th>\n",
       "      <th></th>\n",
       "      <th></th>\n",
       "    </tr>\n",
       "  </thead>\n",
       "  <tbody>\n",
       "  </tbody>\n",
       "</table>\n",
       "</div>"
      ],
      "text/plain": [
       "Empty DataFrame\n",
       "Columns: [scheme_isin1, scheme_isin2, scheme_name]\n",
       "Index: []"
      ]
     },
     "execution_count": 6,
     "metadata": {},
     "output_type": "execute_result"
    }
   ],
   "source": [
    "result"
   ]
  },
  {
   "cell_type": "code",
   "execution_count": 7,
   "metadata": {},
   "outputs": [
    {
     "data": {
      "text/html": [
       "<div>\n",
       "<style scoped>\n",
       "    .dataframe tbody tr th:only-of-type {\n",
       "        vertical-align: middle;\n",
       "    }\n",
       "\n",
       "    .dataframe tbody tr th {\n",
       "        vertical-align: top;\n",
       "    }\n",
       "\n",
       "    .dataframe thead th {\n",
       "        text-align: right;\n",
       "    }\n",
       "</style>\n",
       "<table border=\"1\" class=\"dataframe\">\n",
       "  <thead>\n",
       "    <tr style=\"text-align: right;\">\n",
       "      <th></th>\n",
       "      <th>scheme_isin1</th>\n",
       "      <th>scheme_isin2</th>\n",
       "      <th>scheme_name</th>\n",
       "    </tr>\n",
       "    <tr>\n",
       "      <th>scheme_code</th>\n",
       "      <th></th>\n",
       "      <th></th>\n",
       "      <th></th>\n",
       "    </tr>\n",
       "  </thead>\n",
       "  <tbody>\n",
       "  </tbody>\n",
       "</table>\n",
       "</div>"
      ],
      "text/plain": [
       "Empty DataFrame\n",
       "Columns: [scheme_isin1, scheme_isin2, scheme_name]\n",
       "Index: []"
      ]
     },
     "execution_count": 7,
     "metadata": {},
     "output_type": "execute_result"
    }
   ],
   "source": [
    "result"
   ]
  },
  {
   "cell_type": "code",
   "execution_count": 8,
   "metadata": {},
   "outputs": [],
   "source": [
    "schemeCodes = obj.get_all_schemes()\n",
    "schemeCodes = schemeCodes[~schemeCodes['scheme_name'].str.contains('Regular',na=False, case=False)]\n",
    "schemeCodes = schemeCodes[~schemeCodes['scheme_name'].str.contains('idcw',na=False, case=False)]\n",
    "schemeCodes = schemeCodes[~schemeCodes['scheme_name'].str.contains('dividend',na=False, case=False)]\n",
    "schemeCodes = schemeCodes[~schemeCodes['scheme_name'].str.contains('capital withdrawal',na=False, case=False)]\n",
    "schemeCodes = schemeCodes[~schemeCodes['scheme_name'].str.contains('bonus',na=False, case=False)]"
   ]
  },
  {
   "cell_type": "code",
   "execution_count": 9,
   "metadata": {},
   "outputs": [],
   "source": [
    "debtFunds = schemeCodes[schemeCodes['scheme_name'].str.contains('Debt',na=False, case=False)]"
   ]
  },
  {
   "cell_type": "code",
   "execution_count": 10,
   "metadata": {},
   "outputs": [],
   "source": [
    "schemeCodes.to_clipboard()"
   ]
  },
  {
   "cell_type": "code",
   "execution_count": null,
   "metadata": {},
   "outputs": [],
   "source": []
  }
 ],
 "metadata": {
  "kernelspec": {
   "display_name": "jupyter_v3",
   "language": "python",
   "name": "jupyter_v3"
  },
  "language_info": {
   "codemirror_mode": {
    "name": "ipython",
    "version": 3
   },
   "file_extension": ".py",
   "mimetype": "text/x-python",
   "name": "python",
   "nbconvert_exporter": "python",
   "pygments_lexer": "ipython3",
   "version": "3.7.4"
  }
 },
 "nbformat": 4,
 "nbformat_minor": 2
}
